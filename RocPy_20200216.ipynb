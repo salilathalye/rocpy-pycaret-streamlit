{
  "nbformat": 4,
  "nbformat_minor": 0,
  "metadata": {
    "colab": {
      "name": "RocPy 20200216.ipynb",
      "provenance": [],
      "collapsed_sections": [],
      "toc_visible": true,
      "authorship_tag": "ABX9TyM9zG+WXBRFvdkfC7BnjcRj",
      "include_colab_link": true
    },
    "kernelspec": {
      "name": "python3",
      "display_name": "Python 3"
    }
  },
  "cells": [
    {
      "cell_type": "markdown",
      "metadata": {
        "id": "view-in-github",
        "colab_type": "text"
      },
      "source": [
        "<a href=\"https://colab.research.google.com/github/salilathalye/rocpy-pycaret-streamlit/blob/main/RocPy_20200216.ipynb\" target=\"_parent\"><img src=\"https://colab.research.google.com/assets/colab-badge.svg\" alt=\"Open In Colab\"/></a>"
      ]
    },
    {
      "cell_type": "markdown",
      "metadata": {
        "id": "EtSGWh4FU1gG"
      },
      "source": [
        "#Low Code Machine Learning with Colab, PyCaret and Streamlit\n",
        "\n",
        "### Salil \"Sal\" Athalye\n",
        "\n",
        "[LinkedIn](https://www.linkedin.com/in/salilathalye/)\n",
        "\n",
        "[Github](https://github.com/salilathalye)\n",
        "\n",
        "## Rochester Python Meetup\n",
        "### February 16, 2021\n",
        "\n",
        "\n",
        "\n",
        "\n",
        "\n",
        "\n"
      ]
    },
    {
      "cell_type": "markdown",
      "metadata": {
        "id": "d5DvHntXVZZB"
      },
      "source": [
        "## Objective\n",
        "*Interested in getting started with Machine Learning? In this presentation Sal Athalye will show you how he is using Python and a handful of open-source libraries to create low-cost, low-code, end-to-end solutions.*"
      ]
    },
    {
      "cell_type": "markdown",
      "metadata": {
        "id": "SCpKTwCmV8QL"
      },
      "source": [
        "## Motivation\n",
        "\n",
        "* Build a personal hobbyist / \"Citizen Data Scientist\" codebase for Data Science, ML, NLP and Time Series Forecasting from open-source libraries using techniques from the public domain.\n",
        "* Give back to the open-source community through public Github repos under the MIT License.\n",
        "* Enable a low-cost \"***workbench***\" for experimentation in support of continuous learning.\n",
        "* Surface areas of weakness in theory and practice.\n",
        "* Build \"muscle memory\" with APIs and toolchains to improve productivity and flow.\n",
        "* Enhance skills with tools and processes needed to contribute to other open-source projects.\n",
        "* Support my passion for technology and computing and staying informed of new developments in the field.\n",
        "* Participate in time-boxed datathons and similar challenges in an individual or team-based setting.\n"
      ]
    },
    {
      "cell_type": "markdown",
      "metadata": {
        "id": "TtYIb9-lbHCH"
      },
      "source": [
        "## Acknowledgements\n",
        "\n",
        "To all the Giants, whose shoulders we stand on - Thanks!"
      ]
    },
    {
      "cell_type": "markdown",
      "metadata": {
        "id": "gXW-18RlZEo8"
      },
      "source": [
        "# The *Work in Progress* Workbench\n",
        "\n",
        "## Development Environments\n",
        "### Python / Jupyter Notebooks\n",
        "We will mostly be using a handful of Python libraries to create this workbench. Familiarity with writing functions, workings with lists, dictionaries, sets should give you the foundation you need to get started.\n",
        "\n",
        "### Python Virtual Environment\n",
        "Coming from the Data Science group of Python users, I've used conda and pip for virtual environment and package management.\n",
        "\n",
        "### Visual Studio Code\n",
        "This is a personal decision. You will need an Editor/IDE on your local machine. I also use Jupyter Notebook/Jupyter Lab. You need to build \"muscle memory\" with your editor(s) of choice!\n",
        "\n",
        "[Visual Studio Code](https://code.visualstudio.com/)\n",
        "\n",
        "### Google Colaboratory\n",
        "Google Colaboratory (aka Colab) provides a cloud-based Python development environment with pre-installed libraries in a familar Jupyter Notebook setting. It integrates with Google Drive and github. Colab is intriguing because we can set up runtime environments with a GPU or TPU, for free - subject to some constraints such as strict idle timeouts, VM RAM limits and upto 12hrs of notebook run time. There is also a Pro tier that removes some of the constraints.\n",
        "\n",
        "[Introduction to Colab](https://colab.research.google.com/github/tensorflow/examples/blob/master/courses/udacity_intro_to_tensorflow_for_deep_learning/l01c01_introduction_to_colab_and_python.ipynb)\n",
        "\n",
        "### git, github\n",
        "Familiarity with creating a git repo on github, connecting your local repo to a remote, using a .gitignore file, adding new files to the repo, staging changes, committing changes, pulling and pushing changes are what we need to get started.\n",
        "\n",
        "Github gists are a great way to build your collection of commonly used code snippets. You can create public or private gists.\n",
        "\n",
        "[Github Gist](https://gist.github.com/)\n",
        "\n",
        "[Sal's gists](https://gist.github.com/salilathalye)\n",
        "\n",
        "## Python Libraries\n",
        "\n",
        "### pandas\n",
        "The pandas library, developed by Wes McKinney, is the Swiss Army Knife for data manipulation and analysis in Python. Familarity with loading data from CSV or xlsx (Excel) formats, manipulating and transforming DataFrames and Series (tabular and columnar representations of in-memory data) is the muscle-memory we need to build here. There are many excellent tutorials on YouTube to help us get started.\n",
        "\n",
        "[pandas](https://pandas.pydata.org/)\n",
        "\n",
        "\n",
        "\n",
        "\n",
        "### cookiecutter\n",
        "cookiecutter is a command-line utility that helps create directory structures and necessary utility code from project templates.\n",
        "\n",
        "[cookiecutter](https://github.com/cookiecutter/cookiecutter)\n",
        "\n",
        "For Data Science projects there is a pre-configured template available.\n",
        "\n",
        "[cookiecutter-data-science](https://github.com/drivendata/cookiecutter-data-science)\n",
        "\n",
        "\n",
        "### Streamlit\n",
        "Streamlit was developed to address the need of data science teams to quickly transform their work (analyses, models) into rich, compelling interactive data web applications. \n",
        "\n",
        "[Streamlit](https://https://www.streamlit.io/)\n",
        "\n",
        "[Streamlit Documentation](https://docs.streamlit.io/en/stable/)\n",
        "\n",
        "Streamlit Sharing is currently invite-only as of this presentation. It provides super-easy deployment of Streamlit applications from a public github repo.\n",
        "\n",
        "[Streamlit Sharing](https://www.streamlit.io/sharing)\n",
        "\n",
        "### PyCaret\n",
        "\n",
        "PyCaret is an open-source low-code Machine Learning library developed by [Moez Ali](https://www.linkedin.com/in/profile-moez/) and team. It provides a set of wrappers and workflows that uses functionality from widely used open-source libraries that *considerably* reduces the amount of code we need to write the navigate through the Machine Learning workflow. Hence the \"low-code\"!\n",
        "\n",
        "[PyCaret](https://pycaret.org/)\n",
        "\n",
        "[PyCaret Guide](https://pycaret.org/guide/)"
      ]
    },
    {
      "cell_type": "markdown",
      "metadata": {
        "id": "z9TQwYm6aYJd"
      },
      "source": [
        "# PyCaret Dependencies\n",
        "PyCaret depends on a number of widely used Python libraries from data manipulation, data visualization, exploratory data analysis, ML experiment management, web application development and utilities and provides a Python interface to help users move through the Data Science / ML lifecycle."
      ]
    },
    {
      "cell_type": "code",
      "metadata": {
        "colab": {
          "base_uri": "https://localhost:8080/"
        },
        "id": "61NI0TdUrugX",
        "outputId": "129ada02-eb4a-4317-b22c-d33108f971ed"
      },
      "source": [
        "!pip install pycaret==2.2.3"
      ],
      "execution_count": null,
      "outputs": [
        {
          "output_type": "stream",
          "text": [
            "Requirement already satisfied: pycaret==2.2.3 in /usr/local/lib/python3.6/dist-packages (2.2.3)\n",
            "Requirement already satisfied: gensim in /usr/local/lib/python3.6/dist-packages (from pycaret==2.2.3) (3.6.0)\n",
            "Requirement already satisfied: pandas in /usr/local/lib/python3.6/dist-packages (from pycaret==2.2.3) (1.1.5)\n",
            "Requirement already satisfied: wordcloud in /usr/local/lib/python3.6/dist-packages (from pycaret==2.2.3) (1.5.0)\n",
            "Requirement already satisfied: spacy in /usr/local/lib/python3.6/dist-packages (from pycaret==2.2.3) (2.2.4)\n",
            "Requirement already satisfied: numpy>=1.17 in /usr/local/lib/python3.6/dist-packages (from pycaret==2.2.3) (1.19.5)\n",
            "Requirement already satisfied: ipywidgets in /usr/local/lib/python3.6/dist-packages (from pycaret==2.2.3) (7.6.3)\n",
            "Requirement already satisfied: seaborn in /usr/local/lib/python3.6/dist-packages (from pycaret==2.2.3) (0.11.1)\n",
            "Requirement already satisfied: IPython in /usr/local/lib/python3.6/dist-packages (from pycaret==2.2.3) (5.5.0)\n",
            "Requirement already satisfied: kmodes>=0.10.1 in /usr/local/lib/python3.6/dist-packages (from pycaret==2.2.3) (0.11.0)\n",
            "Requirement already satisfied: plotly>=4.4.1 in /usr/local/lib/python3.6/dist-packages (from pycaret==2.2.3) (4.4.1)\n",
            "Requirement already satisfied: mlflow in /usr/local/lib/python3.6/dist-packages (from pycaret==2.2.3) (1.13.1)\n",
            "Requirement already satisfied: pyod in /usr/local/lib/python3.6/dist-packages (from pycaret==2.2.3) (0.8.6)\n",
            "Requirement already satisfied: nltk in /usr/local/lib/python3.6/dist-packages (from pycaret==2.2.3) (3.2.5)\n",
            "Requirement already satisfied: imbalanced-learn>=0.7.0 in /usr/local/lib/python3.6/dist-packages (from pycaret==2.2.3) (0.7.0)\n",
            "Requirement already satisfied: joblib in /usr/local/lib/python3.6/dist-packages (from pycaret==2.2.3) (1.0.0)\n",
            "Requirement already satisfied: xgboost>=1.1.0 in /usr/local/lib/python3.6/dist-packages (from pycaret==2.2.3) (1.3.3)\n",
            "Requirement already satisfied: textblob in /usr/local/lib/python3.6/dist-packages (from pycaret==2.2.3) (0.15.3)\n",
            "Requirement already satisfied: catboost>=0.23.2 in /usr/local/lib/python3.6/dist-packages (from pycaret==2.2.3) (0.24.4)\n",
            "Requirement already satisfied: pandas-profiling>=2.8.0 in /usr/local/lib/python3.6/dist-packages (from pycaret==2.2.3) (2.10.1)\n",
            "Requirement already satisfied: umap-learn in /usr/local/lib/python3.6/dist-packages (from pycaret==2.2.3) (0.5.0)\n",
            "Requirement already satisfied: scikit-plot in /usr/local/lib/python3.6/dist-packages (from pycaret==2.2.3) (0.3.7)\n",
            "Requirement already satisfied: lightgbm>=2.3.1 in /usr/local/lib/python3.6/dist-packages (from pycaret==2.2.3) (3.1.1)\n",
            "Requirement already satisfied: scikit-learn==0.23.2 in /usr/local/lib/python3.6/dist-packages (from pycaret==2.2.3) (0.23.2)\n",
            "Requirement already satisfied: matplotlib in /usr/local/lib/python3.6/dist-packages (from pycaret==2.2.3) (3.2.2)\n",
            "Requirement already satisfied: pyLDAvis in /usr/local/lib/python3.6/dist-packages (from pycaret==2.2.3) (3.2.0)\n",
            "Requirement already satisfied: cufflinks>=0.17.0 in /usr/local/lib/python3.6/dist-packages (from pycaret==2.2.3) (0.17.3)\n",
            "Requirement already satisfied: mlxtend in /usr/local/lib/python3.6/dist-packages (from pycaret==2.2.3) (0.14.0)\n",
            "Requirement already satisfied: yellowbrick>=1.0.1 in /usr/local/lib/python3.6/dist-packages (from pycaret==2.2.3) (1.3.post1)\n",
            "Requirement already satisfied: six>=1.5.0 in /usr/local/lib/python3.6/dist-packages (from gensim->pycaret==2.2.3) (1.15.0)\n",
            "Requirement already satisfied: smart-open>=1.2.1 in /usr/local/lib/python3.6/dist-packages (from gensim->pycaret==2.2.3) (4.1.2)\n",
            "Requirement already satisfied: scipy>=0.18.1 in /usr/local/lib/python3.6/dist-packages (from gensim->pycaret==2.2.3) (1.4.1)\n",
            "Requirement already satisfied: pytz>=2017.2 in /usr/local/lib/python3.6/dist-packages (from pandas->pycaret==2.2.3) (2018.9)\n",
            "Requirement already satisfied: python-dateutil>=2.7.3 in /usr/local/lib/python3.6/dist-packages (from pandas->pycaret==2.2.3) (2.8.1)\n",
            "Requirement already satisfied: pillow in /usr/local/lib/python3.6/dist-packages (from wordcloud->pycaret==2.2.3) (7.0.0)\n",
            "Requirement already satisfied: murmurhash<1.1.0,>=0.28.0 in /usr/local/lib/python3.6/dist-packages (from spacy->pycaret==2.2.3) (1.0.5)\n",
            "Requirement already satisfied: wasabi<1.1.0,>=0.4.0 in /usr/local/lib/python3.6/dist-packages (from spacy->pycaret==2.2.3) (0.8.2)\n",
            "Requirement already satisfied: blis<0.5.0,>=0.4.0 in /usr/local/lib/python3.6/dist-packages (from spacy->pycaret==2.2.3) (0.4.1)\n",
            "Requirement already satisfied: plac<1.2.0,>=0.9.6 in /usr/local/lib/python3.6/dist-packages (from spacy->pycaret==2.2.3) (1.1.3)\n",
            "Requirement already satisfied: thinc==7.4.0 in /usr/local/lib/python3.6/dist-packages (from spacy->pycaret==2.2.3) (7.4.0)\n",
            "Requirement already satisfied: requests<3.0.0,>=2.13.0 in /usr/local/lib/python3.6/dist-packages (from spacy->pycaret==2.2.3) (2.25.1)\n",
            "Requirement already satisfied: tqdm<5.0.0,>=4.38.0 in /usr/local/lib/python3.6/dist-packages (from spacy->pycaret==2.2.3) (4.56.2)\n",
            "Requirement already satisfied: preshed<3.1.0,>=3.0.2 in /usr/local/lib/python3.6/dist-packages (from spacy->pycaret==2.2.3) (3.0.5)\n",
            "Requirement already satisfied: cymem<2.1.0,>=2.0.2 in /usr/local/lib/python3.6/dist-packages (from spacy->pycaret==2.2.3) (2.0.5)\n",
            "Requirement already satisfied: srsly<1.1.0,>=1.0.2 in /usr/local/lib/python3.6/dist-packages (from spacy->pycaret==2.2.3) (1.0.5)\n",
            "Requirement already satisfied: setuptools in /usr/local/lib/python3.6/dist-packages (from spacy->pycaret==2.2.3) (53.0.0)\n",
            "Requirement already satisfied: catalogue<1.1.0,>=0.0.7 in /usr/local/lib/python3.6/dist-packages (from spacy->pycaret==2.2.3) (1.0.0)\n",
            "Requirement already satisfied: traitlets>=4.3.1 in /usr/local/lib/python3.6/dist-packages (from ipywidgets->pycaret==2.2.3) (4.3.3)\n",
            "Requirement already satisfied: jupyterlab-widgets>=1.0.0; python_version >= \"3.6\" in /usr/local/lib/python3.6/dist-packages (from ipywidgets->pycaret==2.2.3) (1.0.0)\n",
            "Requirement already satisfied: ipykernel>=4.5.1 in /usr/local/lib/python3.6/dist-packages (from ipywidgets->pycaret==2.2.3) (4.10.1)\n",
            "Requirement already satisfied: nbformat>=4.2.0 in /usr/local/lib/python3.6/dist-packages (from ipywidgets->pycaret==2.2.3) (5.1.2)\n",
            "Requirement already satisfied: widgetsnbextension~=3.5.0 in /usr/local/lib/python3.6/dist-packages (from ipywidgets->pycaret==2.2.3) (3.5.1)\n",
            "Requirement already satisfied: simplegeneric>0.8 in /usr/local/lib/python3.6/dist-packages (from IPython->pycaret==2.2.3) (0.8.1)\n",
            "Requirement already satisfied: pickleshare in /usr/local/lib/python3.6/dist-packages (from IPython->pycaret==2.2.3) (0.7.5)\n",
            "Requirement already satisfied: decorator in /usr/local/lib/python3.6/dist-packages (from IPython->pycaret==2.2.3) (4.4.2)\n",
            "Requirement already satisfied: pygments in /usr/local/lib/python3.6/dist-packages (from IPython->pycaret==2.2.3) (2.6.1)\n",
            "Requirement already satisfied: prompt-toolkit<2.0.0,>=1.0.4 in /usr/local/lib/python3.6/dist-packages (from IPython->pycaret==2.2.3) (1.0.18)\n",
            "Requirement already satisfied: pexpect; sys_platform != \"win32\" in /usr/local/lib/python3.6/dist-packages (from IPython->pycaret==2.2.3) (4.8.0)\n",
            "Requirement already satisfied: retrying>=1.3.3 in /usr/local/lib/python3.6/dist-packages (from plotly>=4.4.1->pycaret==2.2.3) (1.3.3)\n",
            "Requirement already satisfied: azure-storage-blob>=12.0.0 in /usr/local/lib/python3.6/dist-packages (from mlflow->pycaret==2.2.3) (12.7.1)\n",
            "Requirement already satisfied: alembic<=1.4.1 in /usr/local/lib/python3.6/dist-packages (from mlflow->pycaret==2.2.3) (1.4.1)\n",
            "Requirement already satisfied: databricks-cli>=0.8.7 in /usr/local/lib/python3.6/dist-packages (from mlflow->pycaret==2.2.3) (0.14.1)\n",
            "Requirement already satisfied: Flask in /usr/local/lib/python3.6/dist-packages (from mlflow->pycaret==2.2.3) (1.1.2)\n",
            "Requirement already satisfied: gitpython>=2.1.0 in /usr/local/lib/python3.6/dist-packages (from mlflow->pycaret==2.2.3) (3.1.13)\n",
            "Requirement already satisfied: prometheus-flask-exporter in /usr/local/lib/python3.6/dist-packages (from mlflow->pycaret==2.2.3) (0.18.1)\n",
            "Requirement already satisfied: sqlparse>=0.3.1 in /usr/local/lib/python3.6/dist-packages (from mlflow->pycaret==2.2.3) (0.4.1)\n",
            "Requirement already satisfied: pyyaml in /usr/local/lib/python3.6/dist-packages (from mlflow->pycaret==2.2.3) (3.13)\n",
            "Requirement already satisfied: gunicorn; platform_system != \"Windows\" in /usr/local/lib/python3.6/dist-packages (from mlflow->pycaret==2.2.3) (20.0.4)\n",
            "Requirement already satisfied: querystring-parser in /usr/local/lib/python3.6/dist-packages (from mlflow->pycaret==2.2.3) (1.2.4)\n",
            "Requirement already satisfied: docker>=4.0.0 in /usr/local/lib/python3.6/dist-packages (from mlflow->pycaret==2.2.3) (4.4.2)\n",
            "Requirement already satisfied: click>=7.0 in /usr/local/lib/python3.6/dist-packages (from mlflow->pycaret==2.2.3) (7.1.2)\n",
            "Requirement already satisfied: sqlalchemy in /usr/local/lib/python3.6/dist-packages (from mlflow->pycaret==2.2.3) (1.3.23)\n",
            "Requirement already satisfied: cloudpickle in /usr/local/lib/python3.6/dist-packages (from mlflow->pycaret==2.2.3) (1.3.0)\n",
            "Requirement already satisfied: protobuf>=3.6.0 in /usr/local/lib/python3.6/dist-packages (from mlflow->pycaret==2.2.3) (3.12.4)\n",
            "Requirement already satisfied: entrypoints in /usr/local/lib/python3.6/dist-packages (from mlflow->pycaret==2.2.3) (0.3)\n",
            "Requirement already satisfied: combo in /usr/local/lib/python3.6/dist-packages (from pyod->pycaret==2.2.3) (0.1.2)\n",
            "Requirement already satisfied: suod in /usr/local/lib/python3.6/dist-packages (from pyod->pycaret==2.2.3) (0.0.6)\n",
            "Requirement already satisfied: numba>=0.35 in /usr/local/lib/python3.6/dist-packages (from pyod->pycaret==2.2.3) (0.51.2)\n",
            "Requirement already satisfied: statsmodels in /usr/local/lib/python3.6/dist-packages (from pyod->pycaret==2.2.3) (0.10.2)\n",
            "Requirement already satisfied: graphviz in /usr/local/lib/python3.6/dist-packages (from catboost>=0.23.2->pycaret==2.2.3) (0.10.1)\n",
            "Requirement already satisfied: visions[type_image_path]==0.6.0 in /usr/local/lib/python3.6/dist-packages (from pandas-profiling>=2.8.0->pycaret==2.2.3) (0.6.0)\n",
            "Requirement already satisfied: phik>=0.10.0 in /usr/local/lib/python3.6/dist-packages (from pandas-profiling>=2.8.0->pycaret==2.2.3) (0.11.0)\n",
            "Requirement already satisfied: htmlmin>=0.1.12 in /usr/local/lib/python3.6/dist-packages (from pandas-profiling>=2.8.0->pycaret==2.2.3) (0.1.12)\n",
            "Requirement already satisfied: missingno>=0.4.2 in /usr/local/lib/python3.6/dist-packages (from pandas-profiling>=2.8.0->pycaret==2.2.3) (0.4.2)\n",
            "Requirement already satisfied: jinja2>=2.11.1 in /usr/local/lib/python3.6/dist-packages (from pandas-profiling>=2.8.0->pycaret==2.2.3) (2.11.3)\n",
            "Requirement already satisfied: tangled-up-in-unicode>=0.0.6 in /usr/local/lib/python3.6/dist-packages (from pandas-profiling>=2.8.0->pycaret==2.2.3) (0.0.6)\n",
            "Requirement already satisfied: attrs>=19.3.0 in /usr/local/lib/python3.6/dist-packages (from pandas-profiling>=2.8.0->pycaret==2.2.3) (20.3.0)\n",
            "Requirement already satisfied: confuse>=1.0.0 in /usr/local/lib/python3.6/dist-packages (from pandas-profiling>=2.8.0->pycaret==2.2.3) (1.4.0)\n",
            "Requirement already satisfied: pynndescent>=0.5 in /usr/local/lib/python3.6/dist-packages (from umap-learn->pycaret==2.2.3) (0.5.1)\n",
            "Requirement already satisfied: wheel in /usr/local/lib/python3.6/dist-packages (from lightgbm>=2.3.1->pycaret==2.2.3) (0.36.2)\n",
            "Requirement already satisfied: threadpoolctl>=2.0.0 in /usr/local/lib/python3.6/dist-packages (from scikit-learn==0.23.2->pycaret==2.2.3) (2.1.0)\n",
            "Requirement already satisfied: kiwisolver>=1.0.1 in /usr/local/lib/python3.6/dist-packages (from matplotlib->pycaret==2.2.3) (1.3.1)\n",
            "Requirement already satisfied: cycler>=0.10 in /usr/local/lib/python3.6/dist-packages (from matplotlib->pycaret==2.2.3) (0.10.0)\n",
            "Requirement already satisfied: pyparsing!=2.0.4,!=2.1.2,!=2.1.6,>=2.0.1 in /usr/local/lib/python3.6/dist-packages (from matplotlib->pycaret==2.2.3) (2.4.7)\n",
            "Requirement already satisfied: numexpr in /usr/local/lib/python3.6/dist-packages (from pyLDAvis->pycaret==2.2.3) (2.7.2)\n",
            "Requirement already satisfied: funcy in /usr/local/lib/python3.6/dist-packages (from pyLDAvis->pycaret==2.2.3) (1.15)\n",
            "Requirement already satisfied: future in /usr/local/lib/python3.6/dist-packages (from pyLDAvis->pycaret==2.2.3) (0.16.0)\n",
            "Requirement already satisfied: colorlover>=0.2.1 in /usr/local/lib/python3.6/dist-packages (from cufflinks>=0.17.0->pycaret==2.2.3) (0.3.0)\n",
            "Requirement already satisfied: certifi>=2017.4.17 in /usr/local/lib/python3.6/dist-packages (from requests<3.0.0,>=2.13.0->spacy->pycaret==2.2.3) (2020.12.5)\n",
            "Requirement already satisfied: chardet<5,>=3.0.2 in /usr/local/lib/python3.6/dist-packages (from requests<3.0.0,>=2.13.0->spacy->pycaret==2.2.3) (3.0.4)\n",
            "Requirement already satisfied: idna<3,>=2.5 in /usr/local/lib/python3.6/dist-packages (from requests<3.0.0,>=2.13.0->spacy->pycaret==2.2.3) (2.10)\n",
            "Requirement already satisfied: urllib3<1.27,>=1.21.1 in /usr/local/lib/python3.6/dist-packages (from requests<3.0.0,>=2.13.0->spacy->pycaret==2.2.3) (1.24.3)\n",
            "Requirement already satisfied: importlib-metadata>=0.20; python_version < \"3.8\" in /usr/local/lib/python3.6/dist-packages (from catalogue<1.1.0,>=0.0.7->spacy->pycaret==2.2.3) (3.4.0)\n",
            "Requirement already satisfied: ipython-genutils in /usr/local/lib/python3.6/dist-packages (from traitlets>=4.3.1->ipywidgets->pycaret==2.2.3) (0.2.0)\n",
            "Requirement already satisfied: tornado>=4.0 in /usr/local/lib/python3.6/dist-packages (from ipykernel>=4.5.1->ipywidgets->pycaret==2.2.3) (5.1.1)\n",
            "Requirement already satisfied: jupyter-client in /usr/local/lib/python3.6/dist-packages (from ipykernel>=4.5.1->ipywidgets->pycaret==2.2.3) (5.3.5)\n",
            "Requirement already satisfied: jupyter-core in /usr/local/lib/python3.6/dist-packages (from nbformat>=4.2.0->ipywidgets->pycaret==2.2.3) (4.7.1)\n",
            "Requirement already satisfied: jsonschema!=2.5.0,>=2.4 in /usr/local/lib/python3.6/dist-packages (from nbformat>=4.2.0->ipywidgets->pycaret==2.2.3) (2.6.0)\n",
            "Requirement already satisfied: notebook>=4.4.1 in /usr/local/lib/python3.6/dist-packages (from widgetsnbextension~=3.5.0->ipywidgets->pycaret==2.2.3) (5.3.1)\n",
            "Requirement already satisfied: wcwidth in /usr/local/lib/python3.6/dist-packages (from prompt-toolkit<2.0.0,>=1.0.4->IPython->pycaret==2.2.3) (0.2.5)\n",
            "Requirement already satisfied: ptyprocess>=0.5 in /usr/local/lib/python3.6/dist-packages (from pexpect; sys_platform != \"win32\"->IPython->pycaret==2.2.3) (0.7.0)\n",
            "Requirement already satisfied: azure-core<2.0.0,>=1.10.0 in /usr/local/lib/python3.6/dist-packages (from azure-storage-blob>=12.0.0->mlflow->pycaret==2.2.3) (1.11.0)\n",
            "Requirement already satisfied: msrest>=0.6.18 in /usr/local/lib/python3.6/dist-packages (from azure-storage-blob>=12.0.0->mlflow->pycaret==2.2.3) (0.6.21)\n",
            "Requirement already satisfied: cryptography>=2.1.4 in /usr/local/lib/python3.6/dist-packages (from azure-storage-blob>=12.0.0->mlflow->pycaret==2.2.3) (3.4.5)\n",
            "Requirement already satisfied: Mako in /usr/local/lib/python3.6/dist-packages (from alembic<=1.4.1->mlflow->pycaret==2.2.3) (1.1.4)\n",
            "Requirement already satisfied: python-editor>=0.3 in /usr/local/lib/python3.6/dist-packages (from alembic<=1.4.1->mlflow->pycaret==2.2.3) (1.0.4)\n",
            "Requirement already satisfied: tabulate>=0.7.7 in /usr/local/lib/python3.6/dist-packages (from databricks-cli>=0.8.7->mlflow->pycaret==2.2.3) (0.8.7)\n",
            "Requirement already satisfied: itsdangerous>=0.24 in /usr/local/lib/python3.6/dist-packages (from Flask->mlflow->pycaret==2.2.3) (1.1.0)\n",
            "Requirement already satisfied: Werkzeug>=0.15 in /usr/local/lib/python3.6/dist-packages (from Flask->mlflow->pycaret==2.2.3) (1.0.1)\n",
            "Requirement already satisfied: gitdb<5,>=4.0.1 in /usr/local/lib/python3.6/dist-packages (from gitpython>=2.1.0->mlflow->pycaret==2.2.3) (4.0.5)\n",
            "Requirement already satisfied: prometheus-client in /usr/local/lib/python3.6/dist-packages (from prometheus-flask-exporter->mlflow->pycaret==2.2.3) (0.9.0)\n",
            "Requirement already satisfied: websocket-client>=0.32.0 in /usr/local/lib/python3.6/dist-packages (from docker>=4.0.0->mlflow->pycaret==2.2.3) (0.57.0)\n",
            "Requirement already satisfied: psutil in /usr/local/lib/python3.6/dist-packages (from suod->pyod->pycaret==2.2.3) (5.4.8)\n",
            "Requirement already satisfied: llvmlite<0.35,>=0.34.0.dev0 in /usr/local/lib/python3.6/dist-packages (from numba>=0.35->pyod->pycaret==2.2.3) (0.34.0)\n",
            "Requirement already satisfied: patsy>=0.4.0 in /usr/local/lib/python3.6/dist-packages (from statsmodels->pyod->pycaret==2.2.3) (0.5.1)\n",
            "Requirement already satisfied: networkx>=2.4 in /usr/local/lib/python3.6/dist-packages (from visions[type_image_path]==0.6.0->pandas-profiling>=2.8.0->pycaret==2.2.3) (2.5)\n",
            "Requirement already satisfied: imagehash; extra == \"type_image_path\" in /usr/local/lib/python3.6/dist-packages (from visions[type_image_path]==0.6.0->pandas-profiling>=2.8.0->pycaret==2.2.3) (4.2.0)\n",
            "Requirement already satisfied: MarkupSafe>=0.23 in /usr/local/lib/python3.6/dist-packages (from jinja2>=2.11.1->pandas-profiling>=2.8.0->pycaret==2.2.3) (1.1.1)\n",
            "Requirement already satisfied: zipp>=0.5 in /usr/local/lib/python3.6/dist-packages (from importlib-metadata>=0.20; python_version < \"3.8\"->catalogue<1.1.0,>=0.0.7->spacy->pycaret==2.2.3) (3.4.0)\n",
            "Requirement already satisfied: typing-extensions>=3.6.4; python_version < \"3.8\" in /usr/local/lib/python3.6/dist-packages (from importlib-metadata>=0.20; python_version < \"3.8\"->catalogue<1.1.0,>=0.0.7->spacy->pycaret==2.2.3) (3.7.4.3)\n",
            "Requirement already satisfied: pyzmq>=13 in /usr/local/lib/python3.6/dist-packages (from jupyter-client->ipykernel>=4.5.1->ipywidgets->pycaret==2.2.3) (22.0.2)\n",
            "Requirement already satisfied: terminado>=0.8.1 in /usr/local/lib/python3.6/dist-packages (from notebook>=4.4.1->widgetsnbextension~=3.5.0->ipywidgets->pycaret==2.2.3) (0.9.2)\n",
            "Requirement already satisfied: Send2Trash in /usr/local/lib/python3.6/dist-packages (from notebook>=4.4.1->widgetsnbextension~=3.5.0->ipywidgets->pycaret==2.2.3) (1.5.0)\n",
            "Requirement already satisfied: nbconvert in /usr/local/lib/python3.6/dist-packages (from notebook>=4.4.1->widgetsnbextension~=3.5.0->ipywidgets->pycaret==2.2.3) (5.6.1)\n",
            "Requirement already satisfied: isodate>=0.6.0 in /usr/local/lib/python3.6/dist-packages (from msrest>=0.6.18->azure-storage-blob>=12.0.0->mlflow->pycaret==2.2.3) (0.6.0)\n",
            "Requirement already satisfied: requests-oauthlib>=0.5.0 in /usr/local/lib/python3.6/dist-packages (from msrest>=0.6.18->azure-storage-blob>=12.0.0->mlflow->pycaret==2.2.3) (1.3.0)\n",
            "Requirement already satisfied: cffi>=1.12 in /usr/local/lib/python3.6/dist-packages (from cryptography>=2.1.4->azure-storage-blob>=12.0.0->mlflow->pycaret==2.2.3) (1.14.4)\n",
            "Requirement already satisfied: smmap<4,>=3.0.1 in /usr/local/lib/python3.6/dist-packages (from gitdb<5,>=4.0.1->gitpython>=2.1.0->mlflow->pycaret==2.2.3) (3.0.5)\n",
            "Requirement already satisfied: PyWavelets in /usr/local/lib/python3.6/dist-packages (from imagehash; extra == \"type_image_path\"->visions[type_image_path]==0.6.0->pandas-profiling>=2.8.0->pycaret==2.2.3) (1.1.1)\n",
            "Requirement already satisfied: pandocfilters>=1.4.1 in /usr/local/lib/python3.6/dist-packages (from nbconvert->notebook>=4.4.1->widgetsnbextension~=3.5.0->ipywidgets->pycaret==2.2.3) (1.4.3)\n",
            "Requirement already satisfied: bleach in /usr/local/lib/python3.6/dist-packages (from nbconvert->notebook>=4.4.1->widgetsnbextension~=3.5.0->ipywidgets->pycaret==2.2.3) (3.3.0)\n",
            "Requirement already satisfied: defusedxml in /usr/local/lib/python3.6/dist-packages (from nbconvert->notebook>=4.4.1->widgetsnbextension~=3.5.0->ipywidgets->pycaret==2.2.3) (0.6.0)\n",
            "Requirement already satisfied: testpath in /usr/local/lib/python3.6/dist-packages (from nbconvert->notebook>=4.4.1->widgetsnbextension~=3.5.0->ipywidgets->pycaret==2.2.3) (0.4.4)\n",
            "Requirement already satisfied: mistune<2,>=0.8.1 in /usr/local/lib/python3.6/dist-packages (from nbconvert->notebook>=4.4.1->widgetsnbextension~=3.5.0->ipywidgets->pycaret==2.2.3) (0.8.4)\n",
            "Requirement already satisfied: oauthlib>=3.0.0 in /usr/local/lib/python3.6/dist-packages (from requests-oauthlib>=0.5.0->msrest>=0.6.18->azure-storage-blob>=12.0.0->mlflow->pycaret==2.2.3) (3.1.0)\n",
            "Requirement already satisfied: pycparser in /usr/local/lib/python3.6/dist-packages (from cffi>=1.12->cryptography>=2.1.4->azure-storage-blob>=12.0.0->mlflow->pycaret==2.2.3) (2.20)\n",
            "Requirement already satisfied: packaging in /usr/local/lib/python3.6/dist-packages (from bleach->nbconvert->notebook>=4.4.1->widgetsnbextension~=3.5.0->ipywidgets->pycaret==2.2.3) (20.9)\n",
            "Requirement already satisfied: webencodings in /usr/local/lib/python3.6/dist-packages (from bleach->nbconvert->notebook>=4.4.1->widgetsnbextension~=3.5.0->ipywidgets->pycaret==2.2.3) (0.5.1)\n"
          ],
          "name": "stdout"
        }
      ]
    },
    {
      "cell_type": "markdown",
      "metadata": {
        "id": "vtVNYSMSJMDE"
      },
      "source": [
        "# Cross-Industry Standard Process for Data Mining (CRISP-DM)\n",
        "\n",
        "\n"
      ]
    },
    {
      "cell_type": "markdown",
      "metadata": {
        "id": "mwoNeIiheMRH"
      },
      "source": [
        "## What does the process look like at a 30,000ft level?"
      ]
    },
    {
      "cell_type": "markdown",
      "metadata": {
        "id": "g4Y7W3ueM940"
      },
      "source": [
        "![](https://drive.google.com/uc?export=view&id=1oShKT3B1xXSa3o54lboxURaK1He0B2TK)\n",
        "\n",
        "[Source: Wikipedia](https://en.wikipedia.org/wiki/Cross-industry_standard_process_for_data_mining)"
      ]
    },
    {
      "cell_type": "markdown",
      "metadata": {
        "id": "tkCmd022RN1_"
      },
      "source": [
        "CRISP-DM is a framework first published in 1999 with the aim of providing a consistent process for data mining across industries. Data Science teams tend to use a hybrid approach marrying Agile principles with a light(er) weight interpretation of CRISP-DM.\n",
        "\n",
        "As a hobbyist or Citizen Data Scientist it is important to start with Business Understanding instead of rushing to build a model. We need to take into account several considerations to build a value-added ***solution***:\n",
        "\n",
        "* Business Processes that generate the Data\n",
        "* Addressing the right problem (5 Whys)\n",
        "* Success Criteria\n",
        "* Usage (Who, How, When...), $ at risk\n",
        "* Cost of Errors\n",
        "* Budget and Resources \n",
        "* Model Performance Evaluation\n",
        "  - Current Champion Model performance\n",
        "* Organizational Change Management\n",
        "* ...\n",
        "\n",
        "\n",
        "\n",
        "And while CRISP-DM appears to end at Deployment, we know that changes in the competitive landscape and the nature of the business, plus the adoption of our solution will change the data profile over time and reduce the performance of our model. This is often referred to as ***model rot***, and hence our solution needs to be **Monitored**.\n",
        "\n",
        "And there is **Communication** throughout the process, to technical and non-technical constituents, and as you can image the needs of each constituent has to be considered.\n",
        "\n",
        "\n",
        "\n",
        "Note that many datathon/challenges and toy datasets will not provide this context and information, but its great practice to think through this, so that we build, deploy and support the right solution."
      ]
    },
    {
      "cell_type": "markdown",
      "metadata": {
        "id": "k6xwckZLZ7Cs"
      },
      "source": [
        "# Experiment Artifacts\n",
        "\n",
        "There are many pieces of information that need to be tracked during the model development process:\n",
        "\n",
        "* The data that was used to train the model algorithm\n",
        "* Training data schema\n",
        "* Python library version numbers\n",
        "* Seeds for pseudo-random number generation\n",
        "* The set of data transformation steps applied to the data prior to training the model algorithm\n",
        "\n",
        "For each model algorithm under consideration:\n",
        "* Model inputs schema\n",
        "* The set of hyperparameters and their exact settings used to guide the training of the model algorithm\n",
        "* The set of parameters and their exact values that are learnt by the model algorithm during the training phase\n",
        "* Charts/graphs and tables showing performance\n",
        "* Persistent, serialized representation of the model (pickle file)\n",
        "* Logs, logs and more logs!\n",
        "* ...\n",
        "\n",
        "Decisions and choices made along the way need to be captured.\n",
        "\n",
        "\n",
        "Bottom line is that the activity of data preparation, modeling and evaluation generates a lot of information that needs to be catalogued and managed so that we can reproduce our experiments, recreate our models, audit our decisions and compare any Challengers against our current Champion. Doing this manually is time consuming and error-prone.\n",
        "\n"
      ]
    },
    {
      "cell_type": "markdown",
      "metadata": {
        "id": "MfIUqm3ppJ7_"
      },
      "source": [
        "#Workflow before PyCaret and Streamlit\n",
        "\n",
        "Prior to PyCaret and Streamlit, a typical hobbyist / Citizen Data Scientist workflow would involve firing up a Jupyter Notebook and entering a cut-and-paste frenzy mode, trying to find applicable code snippets from prior projects and customizing the same in order to meet our immediate needs.\n",
        "\n",
        "Consistent application of best practices was inconsistent. Experimentation with a variety of model algorithms was restricted to our current codebase or examples we found from our favorite blogs and books that we could integrate in time.\n",
        "\n",
        "Evaluation was limited to charts/graphs and metrics that we had easy access to. Cataloguing artifacts and tracking was based on our personal discipline and ad-hoc naming and filing conventions.\n",
        "\n",
        "Many models could be and were built, but only a few were evaluated and compared.\n",
        "\n",
        "Prior to Streamlit it was possible to build a web-based data app but it required knowledge of how to integrate several component technologies, front-end and back-end. It was harder to share Proof of Value with non-technical constituents without getting them tangled up with codebase and environment used to produce the solution. The models were not integrated back into the Business Context."
      ]
    },
    {
      "cell_type": "markdown",
      "metadata": {
        "id": "sLtEruwsuN1f"
      },
      "source": [
        "# Workflow with PyCaret and Streamlit\n",
        "\n",
        "PyCaret may be \"low-code\" or \"lower-code\" :) but its depth and breadth of features requires \"more-thinking\"! Yes - it is easy to set it in default mode, but I want to use it to supplement my learning. I find it surfaces gaps in theory and practice quicker (which is in-line with my learning goals) and forces me to be clearer about the choices and options that I select. I spend less time in copy-paste and can invest it in analyzing and evaluating.\n",
        "\n",
        "One concern is the footprint of the PyCaret 2.X library and its growth as new features and capabilities are added to it. I had issues deploying a Streamlit app serving a PyCaret-build ML model on a free-tier Heroku dyno as it exceeded the 500MB slug size (it came in at 574MB). I haven't done enough research to understand what is contributing to the size. Several bloggers were successfully able to deploy PyCaret 1.X models to the Heroku free tier dynos earlier in 2020.\n",
        "\n",
        "Models won't be deployed in an IDE or Jupyter Notebooks - they tend to be situated in containers and web apps. Streamlit helps us place the model in an environment closer to its usage context without requiring the app builder to be fluent in front-end and back-end components and technologies. Yes, eventually a productionized solution will require people fluent in building secure, performant web applications - but it enables us to independently showcase our work. It forces us to think about the user experience using \"business language\".\n",
        "\n",
        "Ease of deployment and integration with github for deployment of changes are great selling points for Streamlit Sharing. Pricing for the service is not known at this point, currently it is providing a showcase for Data Science and Machine Learning capabilities and possibilities similar to what Tableau Public has provided for Visual Analytics."
      ]
    },
    {
      "cell_type": "markdown",
      "metadata": {
        "id": "iwF_nvRi8tlA"
      },
      "source": [
        "# Demo"
      ]
    },
    {
      "cell_type": "markdown",
      "metadata": {
        "id": "U4hIAzbS8ysj"
      },
      "source": [
        "[Demo Github Repo](https://github.com/salilathalye/cwa-dphitech-challenge-54)\n",
        "\n",
        "[Streamlit App](https://share.streamlit.io/salilathalye/cwa-dphitech-challenge-54/main/src/app.py)\n",
        "\n",
        "[Data Science and ML Templates](https://github.com/salilathalye/cwa-templates-dsml)\n",
        "\n",
        "[DPhi](https://dphi.tech/)"
      ]
    }
  ]
}